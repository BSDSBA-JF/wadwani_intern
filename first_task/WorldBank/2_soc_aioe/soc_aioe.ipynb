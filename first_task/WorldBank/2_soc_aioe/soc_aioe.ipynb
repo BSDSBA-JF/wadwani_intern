{
 "cells": [
  {
   "cell_type": "code",
   "execution_count": 1,
   "id": "44af652a",
   "metadata": {},
   "outputs": [],
   "source": [
    "import pandas as pd\n",
    "import sqlite3\n",
    "import numpy as np\n",
    "import matplotlib.pyplot as plt"
   ]
  },
  {
   "cell_type": "markdown",
   "id": "2e1cccb9",
   "metadata": {},
   "source": [
    "Felten et al. (2021) developed the AI Occupational Exposure (AIOE) measure to evaluate how AI capabilities align with occupational tasks. They began with ten AI applications from the Electronic Frontier Foundation’s AI Progress Measurement and linked them to 52 occupational abilities from O*NET using crowd-sourced relevance ratings, which measure how applicable each AI application is to each ability. The summed relevance ratings for each ability give the ability-level exposure, denoted as $A_j$, where $j$ indexes the 52 abilities.\n",
    "\n",
    "\n",
    "Each job in O*NET also has ratings for how important and prevalent an ability is, denoted by $I_{jk}$ and $L_{jk}$ for job $k$. Since a job is essentially a weighted bundle of abilities, Felten et al. aggregate across them using $\\sum_{j=1}^{52} L_{jk} \\cdot I_{jk}$. To incorporate AI, they multiply by $A_j$ to capture how exposed each ability is to AI before summing across all abilities. The AIOE for some job $k$ is then:  \n",
    "\n",
    "$$\n",
    "\\text{AIOE}_k = \\frac{\\sum_{j=1}^{52} A_j \\cdot L_{jk} \\cdot I_{jk}}{\\sum_{j=1}^{52} L_{jk} \\cdot I_{jk}}.\n",
    "$$\n"
   ]
  },
  {
   "cell_type": "markdown",
   "id": "22341045",
   "metadata": {},
   "source": [
    "# I. Retrieving Ability-Level AI Exposure ($A_j$)"
   ]
  },
  {
   "cell_type": "code",
   "execution_count": 2,
   "id": "aa492328",
   "metadata": {},
   "outputs": [],
   "source": [
    "# Open the data and get the sheet for the ability-level AI Exposure\n",
    "filename = 'AIOE_DataAppendix.xlsx'\n",
    "ai_exposure = pd.read_excel(filename, sheet_name=5, index_col=0)\n",
    "\n",
    "# Rename one index from Visual Color Determination to Visual Color Discrimination\n",
    "ai_exposure.rename(index={'Visual Color Determination' : 'Visual Color Discrimination'}, inplace=True)\n",
    "\n",
    "# Create a function that takes in the abilities and gives the exposure to AI \n",
    "overall_ai_exposure = dict(zip(ai_exposure.index, ai_exposure['Ability-Level AI Exposure']))\n",
    "\n",
    "# Place it as a table\n",
    "# data = ai_exposure.sort_values(by='Ability-Level AI Exposure', ascending=False)"
   ]
  },
  {
   "cell_type": "markdown",
   "id": "ec50fe64",
   "metadata": {},
   "source": [
    "# II. Retrieving the Importance ($I_{jk}$) and Prevalence ($L_{jk}$) of an Ability to Each Job"
   ]
  },
  {
   "cell_type": "code",
   "execution_count": 3,
   "id": "39799d4d",
   "metadata": {},
   "outputs": [],
   "source": [
    "# Get the data dictionary so that we can name the abilities and not deal with codes\n",
    "filename = 'Content Model Reference.xlsx'\n",
    "data_dict_df = pd.read_excel(filename)\n",
    "data_dict = dict(zip(data_dict_df['Element ID'], data_dict_df['Element Name']))\n",
    "\n",
    "# Open the abilities database\n",
    "conn = sqlite3.connect('abilities.db')\n",
    "abilities_df = pd.read_sql('SELECT * FROM abilities', conn)\n",
    "abilities_df['SOC'] = abilities_df['onetsoc_code'].apply(lambda x : x[:7])\n",
    "abilities_df['ability'] = abilities_df['element_id'].apply(lambda x : data_dict[x])\n",
    "\n",
    "# Make sure date is in datetime format\n",
    "abilities_df['date_updated'] = pd.to_datetime(abilities_df['date_updated'])\n",
    "\n",
    "# Keep the latest date for each SOC and ability, but preserve first-seen order\n",
    "abilities_df = (\n",
    "    abilities_df\n",
    "    .sort_values('date_updated')  # oldest to newest\n",
    "    .drop_duplicates(\n",
    "        subset=['SOC', 'ability', 'scale_id'], \n",
    "        keep='last'                # keep the most recent\n",
    "    )\n",
    "    .sort_index()  # restore original row order formatting\n",
    ")"
   ]
  },
  {
   "cell_type": "code",
   "execution_count": 4,
   "id": "8c1fc575",
   "metadata": {},
   "outputs": [],
   "source": [
    "# Create a nested dictionary with the structure:\n",
    "# {SOC_code: {ability: {scale: value}}}\n",
    "soc_dict = {}\n",
    "\n",
    "for _, row in abilities_df.iterrows():\n",
    "    soc = row['SOC']\n",
    "    ability = row['ability']\n",
    "    scale = row['scale_id']\n",
    "    score = row['data_value']\n",
    "\n",
    "    # make sure structure exists\n",
    "    if soc not in soc_dict:\n",
    "        soc_dict[soc] = {}\n",
    "    if ability not in soc_dict[soc]:\n",
    "        soc_dict[soc][ability] = {}\n",
    "\n",
    "    # assign score\n",
    "    soc_dict[soc][ability][scale] = score\n",
    "\n",
    "    # Add the AI score. We can do this repeatedly because it won't rlly change.\n",
    "    scale='A'\n",
    "    soc_dict[soc][ability][scale] = overall_ai_exposure[ability]"
   ]
  },
  {
   "cell_type": "markdown",
   "id": "181731aa",
   "metadata": {},
   "source": [
    "# III. Computing the AIOE Score for each SOC Code"
   ]
  },
  {
   "cell_type": "code",
   "execution_count": 5,
   "id": "489d3eb1",
   "metadata": {},
   "outputs": [],
   "source": [
    "# Create a function that takes in the SOC code and outputs the AIOE score\n",
    "soc_aioe = {}\n",
    "for soc, abilities in soc_dict.items():\n",
    "    weight = 0\n",
    "    ai_weight = 0\n",
    "    for ability in abilities.values():\n",
    "        importance = ability['IM']\n",
    "        ai = ability['A']\n",
    "        prevalence = ability['LV']\n",
    "\n",
    "        weight += importance * prevalence\n",
    "        ai_weight += ai * importance * prevalence\n",
    "    soc_aioe[soc] = ai_weight/weight\n",
    "\n",
    "\n",
    "abilities_df['AIOE'] = abilities_df['SOC'].apply(lambda x : soc_aioe[x])\n",
    "\n",
    "# Standard scale the AIOE metric\n",
    "mean = abilities_df['AIOE'].mean()\n",
    "std = abilities_df['AIOE'].std()\n",
    "abilities_df['AIOE'] = (abilities_df['AIOE'] - mean) / std \n",
    "\n",
    "# Create a dataframe for the SOC to AIOE \n",
    "aioe_wadhwani = pd.DataFrame({'SOC': abilities_df['SOC'], \n",
    "                              'AIOE': abilities_df['AIOE']}\n",
    "                              )\n",
    "aioe_wadhwani.drop_duplicates(inplace=True)"
   ]
  },
  {
   "cell_type": "markdown",
   "id": "6457a326",
   "metadata": {},
   "source": [
    "As a validation step, we must ensure that the histogram provided by Felten et al. aligns with the distribution generated from our calculations. While some differences in AIOE scores are expected due to updates in O\\*NET’s prevalence and importance ratings, the overall shape of the distributions should remain consistent. Below, we present both the histogram from Felten et al. (a) and our corresponding distribution (b) of AIOE scores. Because the two figures present a similar shape, we can be fairly certain that we have followed accurately the methodology of Felten et al."
   ]
  },
  {
   "cell_type": "code",
   "execution_count": 6,
   "id": "76ce5ab6",
   "metadata": {},
   "outputs": [
    {
     "data": {
      "image/png": "[encoded data removed]",
      "text/plain": [
       "<Figure size 1600x500 with 2 Axes>"
      ]
     },
     "metadata": {},
     "output_type": "display_data"
    }
   ],
   "source": [
    "# Get the aioe scores of felten\n",
    "filename = 'AIOE_DataAppendix.xlsx'\n",
    "aioe_felten = pd.read_excel(filename, sheet_name=1, index_col=0)['AIOE']\n",
    "\n",
    "fig, ax = plt.subplots(1, 2, figsize=(16, 5))\n",
    "\n",
    "# Plot Felten\n",
    "ax[0].hist(aioe_felten)\n",
    "ax[0].set_xlabel('AIOE Score\\n(a)')\n",
    "ax[0].set_title('Histogram for AIOE Scores for Felten et al.\\n\\n', loc='left')\n",
    "\n",
    "# Plot Wadhwani\n",
    "ax[1].hist(aioe_wadhwani['AIOE'])\n",
    "ax[1].set_xlabel('AIOE Score\\n(b)')\n",
    "ax[1].set_title('Histogram for AIOE Scores for Wadhwani\\n\\n', loc='left')\n",
    "\n",
    "for axi in ax:\n",
    "    axi.spines['top'].set_visible(False)\n",
    "    axi.spines['right'].set_visible(False)\n",
    "    axi.set_ylabel('Frequency', rotation=0, ha='left')\n",
    "    axi.yaxis.set_label_coords(0, 1.01)"
   ]
  },
  {
   "cell_type": "markdown",
   "id": "eecabc8b",
   "metadata": {},
   "source": [
    "# IV. Mapping Philippine Jobs to their AIOE Scores"
   ]
  },
  {
   "cell_type": "markdown",
   "id": "ebec4b3e",
   "metadata": {},
   "source": [
    "From the previous step, the mapping from the ISCO codes to the SOC codes had a flaw since some are legacy SOC codes, which need to be updated. This issue arose from earlier iterations when we identified codes that did not map to the O*NET database. Each unmatched code was then manually reviewed to determine whether a corresponding updated SOC code exists.\n"
   ]
  },
  {
   "cell_type": "code",
   "execution_count": 7,
   "id": "9141a084",
   "metadata": {},
   "outputs": [],
   "source": [
    "filename = '../1_crosswalk_mca_soc/mca_soc.csv'\n",
    "mca_df = pd.read_csv(filename)\n",
    "\n",
    "old_to_new = {\n",
    "    \"15-1151\": \"15-1232\",\n",
    "    \"19-4093\": \"19-4071\",\n",
    "    \"15-1199\": \"15-1299\",\n",
    "    \"15-1141\": \"15-1242\",\n",
    "    \"51-9122\": \"51-9124\",\n",
    "    \"15-1134\": \"15-1254\",\n",
    "    \"53-7032\": \"47-5022\",\n",
    "    \"31-1014\": \"31-1131\",\n",
    "    \"25-9011\": \"25-9011\",\n",
    "    \"43-9011\": \"15-1299\",\n",
    "    \"29-1069\": \"29-1229\",\n",
    "    \"53-7033\": \"47-5044\",\n",
    "    \"29-9011\": \"19-5011\",\n",
    "    \"15-1121\": \"15-1211\",\n",
    "    \"15-1152\": \"15-1231\",\n",
    "    \"15-1142\": \"15-1244\",\n",
    "    \"19-4091\": \"19-4042\",\n",
    "    \"47-5031\": \"47-5032\",\n",
    "    \"45-3021\": \"45-3031\",\n",
    "    \"51-4012\": \"51-9162\"\n",
    "}\n",
    "\n",
    "mca_df['SOC'] = mca_df['SOC'].replace(old_to_new)"
   ]
  },
  {
   "cell_type": "markdown",
   "id": "306a3f85",
   "metadata": {},
   "source": [
    "Most jobs in the MCA list can be mapped directly to their corresponding AIOE values. However, about 16.92% have missing scores, likely because O*NET lacks complete ability, importance, or prevalence data for these SOC codes. We impute these missing values using the median AIOE of their major-minor group. For example, the Academic Researcher (SOC 19-1099) is assigned the median AIOE of all jobs with SOC codes starting with 19. The median is used because the AIOE distribution is left-skewed, making it more robust than the mean.\n"
   ]
  },
  {
   "cell_type": "code",
   "execution_count": 8,
   "id": "2b153c52",
   "metadata": {},
   "outputs": [
    {
     "data": {
      "text/plain": [
       "Job Title                                                 0.000000\n",
       "Job Sector                                                0.000000\n",
       "Job Subsector                                             0.000000\n",
       "Educational Pathway                                       0.000000\n",
       "HEI with PRC (Professional Regulation Commission) Exam    0.000000\n",
       "Some HEI                                                  0.000000\n",
       "PSOC                                                      0.000000\n",
       "ISCO                                                      0.000000\n",
       "SOC                                                       0.000000\n",
       "AIOE                                                      0.169176\n",
       "dtype: float64"
      ]
     },
     "execution_count": 8,
     "metadata": {},
     "output_type": "execute_result"
    }
   ],
   "source": [
    "mca_df['AIOE'] = mca_df['SOC'].apply(lambda x : soc_aioe.get(x.strip(), np.nan))\n",
    "mca_df.isnull().sum() / mca_df.shape[0]"
   ]
  },
  {
   "cell_type": "code",
   "execution_count": 9,
   "id": "6522dfdd",
   "metadata": {},
   "outputs": [],
   "source": [
    "# Get the first two codes (which are called the major and minor group)\n",
    "mca_df['major_minor'] = mca_df['SOC'].str[:2]\n",
    "\n",
    "# Impute based on the median\n",
    "mca_df['AIOE'] = mca_df['AIOE'].fillna(\n",
    "    mca_df.groupby('major_minor')['AIOE'].transform('median')\n",
    ")\n",
    "\n",
    "# Output the mca with the AIOE scores\n",
    "mca_df.to_csv('soc_aioe.csv')"
   ]
  },
  {
   "cell_type": "code",
   "execution_count": null,
   "id": "8f11ea96",
   "metadata": {},
   "outputs": [],
   "source": []
  }
 ],
 "metadata": {
  "kernelspec": {
   "display_name": "Python 3",
   "language": "python",
   "name": "python3"
  },
  "language_info": {
   "codemirror_mode": {
    "name": "ipython",
    "version": 3
   },
   "file_extension": ".py",
   "mimetype": "text/x-python",
   "name": "python",
   "nbconvert_exporter": "python",
   "pygments_lexer": "ipython3",
   "version": "3.11.5"
  }
 },
 "nbformat": 4,
 "nbformat_minor": 5
}

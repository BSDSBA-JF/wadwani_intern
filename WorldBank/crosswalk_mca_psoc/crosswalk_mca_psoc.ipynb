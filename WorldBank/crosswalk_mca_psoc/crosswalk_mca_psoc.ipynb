{
 "cells": [
  {
   "cell_type": "code",
   "execution_count": 69,
   "id": "d80575b0",
   "metadata": {},
   "outputs": [],
   "source": [
    "import pandas as pd\n",
    "import numpy as np\n",
    "\n",
    "from typing import Optional, Union, Literal, Iterable, Any, Dict, Tuple"
   ]
  },
  {
   "cell_type": "markdown",
   "id": "003a23df",
   "metadata": {},
   "source": [
    "# Get Possible Names of Each Job to ISCO Code"
   ]
  },
  {
   "cell_type": "markdown",
   "id": "39578131",
   "metadata": {},
   "source": [
    "We’ll load the PSOC Excel file and focus only on two columns: Job Title and ISCO code. The ISCO code will serve as the key to link PSOC with O*NET, where we can attach the AIOE and Complementarity scores."
   ]
  },
  {
   "cell_type": "code",
   "execution_count": 70,
   "id": "99f255e5",
   "metadata": {},
   "outputs": [],
   "source": [
    "def add_job_isco(df_map: pd.DataFrame, job_isco: Dict[str, int]) -> Dict[str, int]:\n",
    "    \"\"\"\n",
    "    Build a mapping of job titles (main + examples) to their ISCO codes.\n",
    "\n",
    "    Parameters\n",
    "    ----------\n",
    "    df_map : pd.DataFrame\n",
    "        DataFrame with columns [\"Job Title\", \"ISCO\"].\n",
    "    job_isco : dict\n",
    "        Dictionary to update with mappings {job_title: isco_code}.\n",
    "\n",
    "    Returns\n",
    "    -------\n",
    "    dict\n",
    "        Updated mapping {job_title: isco_code}.\n",
    "    \"\"\"\n",
    "    collecting: bool = False\n",
    "\n",
    "    phrase_1 = \"Some related occupations classified elsewhere:\"\n",
    "    phrase_2 = \"Related occupation classified elsewhere:\"\n",
    "\n",
    "    for _, row in df_map.iterrows():\n",
    "        title: str = row[\"Job Title\"]\n",
    "        code = row[\"ISCO\"]\n",
    "\n",
    "        # If all caps job title is seen, collect it \n",
    "        # but also know that the tasks should not be collected\n",
    "        if title.isupper():\n",
    "            # Main job title\n",
    "            job_isco[title] = code\n",
    "            collecting = False\n",
    "\n",
    "        # Start collecting example job titles\n",
    "        elif \"Examples of the occupations classified here:\" in title:\n",
    "            collecting = True\n",
    "        \n",
    "        # If this phrase is seen, stop collecting\n",
    "        elif (phrase_1 in title) or (phrase_2 in title):\n",
    "            collecting = False\n",
    "\n",
    "        # Collect this specific job title\n",
    "        elif collecting:\n",
    "            job_isco[title] = code\n",
    "\n",
    "    return job_isco"
   ]
  },
  {
   "cell_type": "code",
   "execution_count": 71,
   "id": "d4208456",
   "metadata": {},
   "outputs": [],
   "source": [
    "# Get the data\n",
    "filename = '2022-Updates-to-the-2012-PSOC.xlsx'\n",
    "relevant_cols = [3, 5]\n",
    "names = ['Job Title', 'ISCO']\n",
    "df_maps = pd.read_excel(\n",
    "    filename, \n",
    "    usecols=relevant_cols, \n",
    "    names=names,\n",
    "    sheet_name=None,\n",
    "    dtype={\"Job Title\": str, \"ISCO\": str}\n",
    "    )"
   ]
  },
  {
   "cell_type": "code",
   "execution_count": 72,
   "id": "07330b9d",
   "metadata": {},
   "outputs": [],
   "source": [
    "# for each df_map in df_maps, get their jobs to ISCO pairs\n",
    "job_isco = {}\n",
    "\n",
    "for _, df_map in df_maps.items():\n",
    "    # Replace empty strings or strings with only whitespace with NaN\n",
    "    df_map[\"ISCO\"] = df_map[\"ISCO\"].replace(r\"^\\s*$\", np.nan, regex=True)\n",
    "    \n",
    "    # Forward fill ISCO codes\n",
    "    df_map[\"ISCO\"].ffill(inplace=True)\n",
    "\n",
    "    # Extract only first 4 digits\n",
    "    df_map[\"ISCO\"] = df_map[\"ISCO\"].astype(str).str.extract(r\"(\\d{4})\")[0]\n",
    "\n",
    "    \n",
    "    # Drop rows missing job title (but keep NaN ISCO for now)\n",
    "    df_map.dropna(inplace=True)\n",
    "\n",
    "    # Drop duplicate job titles\n",
    "    df_map.drop_duplicates(inplace=True, ignore_index=True)\n",
    "\n",
    "    add_job_isco(df_map, job_isco)\n"
   ]
  },
  {
   "cell_type": "code",
   "execution_count": 74,
   "id": "834f4195",
   "metadata": {},
   "outputs": [
    {
     "data": {
      "text/html": [
       "<div>\n",
       "<style scoped>\n",
       "    .dataframe tbody tr th:only-of-type {\n",
       "        vertical-align: middle;\n",
       "    }\n",
       "\n",
       "    .dataframe tbody tr th {\n",
       "        vertical-align: top;\n",
       "    }\n",
       "\n",
       "    .dataframe thead th {\n",
       "        text-align: right;\n",
       "    }\n",
       "</style>\n",
       "<table border=\"1\" class=\"dataframe\">\n",
       "  <thead>\n",
       "    <tr style=\"text-align: right;\">\n",
       "      <th></th>\n",
       "      <th>Job Title</th>\n",
       "      <th>ISCO</th>\n",
       "    </tr>\n",
       "  </thead>\n",
       "  <tbody>\n",
       "    <tr>\n",
       "      <th>0</th>\n",
       "      <td>LEGISLATORS</td>\n",
       "      <td>1111</td>\n",
       "    </tr>\n",
       "    <tr>\n",
       "      <th>1</th>\n",
       "      <td>City/Municipal Councilor</td>\n",
       "      <td>1111</td>\n",
       "    </tr>\n",
       "    <tr>\n",
       "      <th>2</th>\n",
       "      <td>Congressman</td>\n",
       "      <td>1111</td>\n",
       "    </tr>\n",
       "    <tr>\n",
       "      <th>3</th>\n",
       "      <td>Member of the Barangay Council (Sangguniang Pa...</td>\n",
       "      <td>1111</td>\n",
       "    </tr>\n",
       "    <tr>\n",
       "      <th>4</th>\n",
       "      <td>Member of the Provincial Board (Sangguniang Pa...</td>\n",
       "      <td>1111</td>\n",
       "    </tr>\n",
       "    <tr>\n",
       "      <th>...</th>\n",
       "      <td>...</td>\n",
       "      <td>...</td>\n",
       "    </tr>\n",
       "    <tr>\n",
       "      <th>3654</th>\n",
       "      <td>Infantryman/woman</td>\n",
       "      <td>0310</td>\n",
       "    </tr>\n",
       "    <tr>\n",
       "      <th>3655</th>\n",
       "      <td>Navy coxswain</td>\n",
       "      <td>0310</td>\n",
       "    </tr>\n",
       "    <tr>\n",
       "      <th>3656</th>\n",
       "      <td>Navy seaman</td>\n",
       "      <td>0310</td>\n",
       "    </tr>\n",
       "    <tr>\n",
       "      <th>3657</th>\n",
       "      <td>Paratrooper</td>\n",
       "      <td>0310</td>\n",
       "    </tr>\n",
       "    <tr>\n",
       "      <th>3658</th>\n",
       "      <td>Rifleman/woman</td>\n",
       "      <td>0310</td>\n",
       "    </tr>\n",
       "  </tbody>\n",
       "</table>\n",
       "<p>3659 rows × 2 columns</p>\n",
       "</div>"
      ],
      "text/plain": [
       "                                              Job Title  ISCO\n",
       "0                                           LEGISLATORS  1111\n",
       "1                              City/Municipal Councilor  1111\n",
       "2                                           Congressman  1111\n",
       "3     Member of the Barangay Council (Sangguniang Pa...  1111\n",
       "4     Member of the Provincial Board (Sangguniang Pa...  1111\n",
       "...                                                 ...   ...\n",
       "3654                                  Infantryman/woman  0310\n",
       "3655                                      Navy coxswain  0310\n",
       "3656                                        Navy seaman  0310\n",
       "3657                                        Paratrooper  0310\n",
       "3658                                     Rifleman/woman  0310\n",
       "\n",
       "[3659 rows x 2 columns]"
      ]
     },
     "execution_count": 74,
     "metadata": {},
     "output_type": "execute_result"
    }
   ],
   "source": [
    "data = pd.DataFrame(list(job_isco.items()), columns=names)\n",
    "data"
   ]
  },
  {
   "cell_type": "markdown",
   "id": "e7eed0b1",
   "metadata": {},
   "source": [
    "The PSA lists job titles in a clear cycle. Each section starts with the main job title in all caps, followed by a description of tasks. It then introduces related titles with the phrase “Examples of the occupations classified here:”. The cycle repeats with a new ISCO code whenever a new all-caps job title appears."
   ]
  },
  {
   "cell_type": "markdown",
   "id": "f3367524",
   "metadata": {},
   "source": []
  },
  {
   "cell_type": "markdown",
   "id": "5e31e096",
   "metadata": {},
   "source": []
  }
 ],
 "metadata": {
  "kernelspec": {
   "display_name": "Python 3",
   "language": "python",
   "name": "python3"
  },
  "language_info": {
   "codemirror_mode": {
    "name": "ipython",
    "version": 3
   },
   "file_extension": ".py",
   "mimetype": "text/x-python",
   "name": "python",
   "nbconvert_exporter": "python",
   "pygments_lexer": "ipython3",
   "version": "3.11.5"
  }
 },
 "nbformat": 4,
 "nbformat_minor": 5
}

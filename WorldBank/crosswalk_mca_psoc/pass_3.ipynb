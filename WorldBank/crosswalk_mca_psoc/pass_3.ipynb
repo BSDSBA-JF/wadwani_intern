{
 "cells": [
  {
   "cell_type": "code",
   "execution_count": 63,
   "id": "cd27eda7",
   "metadata": {},
   "outputs": [],
   "source": [
    "import pandas as pd\n",
    "import numpy as np"
   ]
  },
  {
   "cell_type": "markdown",
   "id": "74697642",
   "metadata": {},
   "source": [
    "# Mapping of PSOC Code to ISCO Code"
   ]
  },
  {
   "cell_type": "code",
   "execution_count": 64,
   "id": "8af39c8a",
   "metadata": {},
   "outputs": [],
   "source": [
    "# Get the data\n",
    "filename = '2022-Updates-to-the-2012-PSOC.xlsx'\n",
    "relevant_cols = [2, 5]\n",
    "names = ['PSOC', 'ISCO']\n",
    "df_maps = pd.read_excel(\n",
    "    filename, \n",
    "    usecols=relevant_cols, \n",
    "    names=names,\n",
    "    sheet_name=None,\n",
    "    dtype={\"PSOC\": str, \"ISCO\": str}\n",
    "    )\n",
    "\n",
    "# for each df_map in df_maps, get their jobs to ISCO pairs\n",
    "psoc_isco = {}\n",
    "for _, df_map in df_maps.items():\n",
    "    df_map.dropna(inplace=True)\n",
    "    mapping = dict(zip(df_map['PSOC'], df_map['ISCO']))\n",
    "    psoc_isco.update(mapping)"
   ]
  },
  {
   "cell_type": "markdown",
   "id": "086277fe",
   "metadata": {},
   "source": [
    "# Using FINAL (WIP)-MCA Job list"
   ]
  },
  {
   "cell_type": "markdown",
   "id": "24d6b44c",
   "metadata": {},
   "source": [
    "There are two sheets of interest for us for the Excel file *FINAL (WIP)-MCA Job list August 2025.xlsx*. Namely, they are **USE_final** and **Pass 3 - Sector reports**. The former is important because it contains the final list of jobs that should have the orderer pair of the exposure v complementarity scores. The latter is an auxilliary sheet that contains the PSOC codes of jobs. What we noticed is that the intersection of the jobs between these two are over 97%."
   ]
  },
  {
   "cell_type": "code",
   "execution_count": 76,
   "id": "b98aa2d6",
   "metadata": {},
   "outputs": [
    {
     "name": "stdout",
     "output_type": "stream",
     "text": [
      "The two lists share over 98.0% of jobs in common.\n"
     ]
    }
   ],
   "source": [
    "# Opening the MCA Job list\n",
    "filename = 'FINAL (WIP)-MCA Job list August 2025.xlsx'\n",
    "\n",
    "# make a dataframe for the final job list\n",
    "final_jobs_df = pd.read_excel(filename, sheet_name=0)\n",
    "final_jobs = set(final_jobs_df['Job Title'].to_list())\n",
    "\n",
    "# make another dataframe for the sheet with PSOC codes\n",
    "pass_df = pd.read_excel(filename, sheet_name=4)\n",
    "pass_jobs = set(pass_df['Job Title'].to_list())\n",
    "\n",
    "# Show the Jaccard Index\n",
    "inter = len(final_jobs.intersection(pass_jobs))\n",
    "union = len(final_jobs.union(pass_jobs))\n",
    "print(f'The two lists share over {round(inter/union, 2) * 100}% of jobs in common.')"
   ]
  },
  {
   "cell_type": "code",
   "execution_count": 77,
   "id": "5aa5cba8",
   "metadata": {},
   "outputs": [
    {
     "name": "stdout",
     "output_type": "stream",
     "text": [
      "Only 15 jobs do not have a PSOC Code. My simple answer would be to just drop, but I don't know if that is the best solution.\n"
     ]
    },
    {
     "data": {
      "text/plain": [
       "Job Title                                                  0\n",
       "Job Sector                                                 0\n",
       "Job Subsector                                              0\n",
       "Educational Pathway                                        0\n",
       "HEI with PRC (Professional Regulation Commission) Exam     0\n",
       "Some HEI                                                   0\n",
       "PSOC                                                      15\n",
       "dtype: int64"
      ]
     },
     "execution_count": 77,
     "metadata": {},
     "output_type": "execute_result"
    }
   ],
   "source": [
    "# Create the mapping from the job to PSOC\n",
    "job_psoc = dict(zip(pass_df['Job Title'].str.strip(), pass_df['PSOC Code']))\n",
    "final_jobs_df['PSOC'] = final_jobs_df['Job Title'].apply(\n",
    "    lambda x : job_psoc.get(x, np.nan)\n",
    "    )\n",
    "print(\"Only 15 jobs do not have a PSOC Code. \"\n",
    "      \"My simple answer would be to just drop, \"\n",
    "      \"but I don't know if that is the best solution.\")\n",
    "\n",
    "final_jobs_df.isnull().sum()"
   ]
  },
  {
   "cell_type": "code",
   "execution_count": 75,
   "id": "5d544abd",
   "metadata": {},
   "outputs": [
    {
     "data": {
      "text/plain": [
       "['Cold Storage Technician',\n",
       " 'Commercial Diver',\n",
       " 'Dental Laboratory Technician',\n",
       " 'Digital Background Painting',\n",
       " 'EV Battery Automotive Mechanic',\n",
       " 'Food Safety Auditor',\n",
       " 'HACCP Coordinator',\n",
       " 'Junior Airline Accounting Clerk',\n",
       " 'Maintenance Laborer',\n",
       " 'Milk Processing Technician',\n",
       " 'Product Development Technician',\n",
       " 'R&D Food Specialist',\n",
       " 'Semiconductor Operator',\n",
       " 'Wastewater Treatment Specialist',\n",
       " 'Water Quality Engineer']"
      ]
     },
     "execution_count": 75,
     "metadata": {},
     "output_type": "execute_result"
    }
   ],
   "source": [
    "final_jobs_df[final_jobs_df['PSOC'].isnull()]['Job Title'].str.strip().to_list()"
   ]
  },
  {
   "cell_type": "code",
   "execution_count": null,
   "id": "3fc95215",
   "metadata": {},
   "outputs": [],
   "source": [
    "['Cold Storage Technician']"
   ]
  }
 ],
 "metadata": {
  "kernelspec": {
   "display_name": "Python 3",
   "language": "python",
   "name": "python3"
  },
  "language_info": {
   "codemirror_mode": {
    "name": "ipython",
    "version": 3
   },
   "file_extension": ".py",
   "mimetype": "text/x-python",
   "name": "python",
   "nbconvert_exporter": "python",
   "pygments_lexer": "ipython3",
   "version": "3.11.5"
  }
 },
 "nbformat": 4,
 "nbformat_minor": 5
}

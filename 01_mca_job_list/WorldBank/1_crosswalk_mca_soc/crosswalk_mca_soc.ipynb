{
 "cells": [
  {
   "cell_type": "code",
   "execution_count": 7,
   "id": "cd27eda7",
   "metadata": {},
   "outputs": [],
   "source": [
    "import pandas as pd\n",
    "import numpy as np\n",
    "import xlrd\n",
    "import plotly.express as px"
   ]
  },
  {
   "cell_type": "markdown",
   "id": "74697642",
   "metadata": {},
   "source": [
    "# Mapping of PSOC Code to ISCO Code"
   ]
  },
  {
   "cell_type": "code",
   "execution_count": 8,
   "id": "8af39c8a",
   "metadata": {},
   "outputs": [],
   "source": [
    "# Get the data\n",
    "filename = 'data/2022-Updates-to-the-2012-PSOC.xlsx'\n",
    "relevant_cols = [2, 5]\n",
    "names = ['PSOC', 'ISCO']\n",
    "df_maps = pd.read_excel(\n",
    "    filename, \n",
    "    usecols=relevant_cols, \n",
    "    names=names,\n",
    "    sheet_name=None,\n",
    "    dtype={\"PSOC\": str, \"ISCO\": str}\n",
    "    )\n",
    "\n",
    "# for each df_map in df_maps, get their jobs to ISCO pairs\n",
    "psoc_isco = {}\n",
    "for _, df_map in df_maps.items():\n",
    "    df_map.dropna(inplace=True)\n",
    "    mapping = dict(zip(df_map['PSOC'], df_map['ISCO']))\n",
    "    psoc_isco.update(mapping)"
   ]
  },
  {
   "cell_type": "markdown",
   "id": "086277fe",
   "metadata": {},
   "source": [
    "# Using FINAL (WIP)-MCA Job list to ISCO"
   ]
  },
  {
   "cell_type": "markdown",
   "id": "24d6b44c",
   "metadata": {},
   "source": [
    "There are two sheets of interest for us for the Excel file *FINAL (WIP)-MCA Job list August 2025.xlsx*. Namely, they are **USE_final** and **Pass 3 - Sector reports**. The former is important because it contains the final list of jobs that should have the orderer pair of the exposure v complementarity scores. The latter is an auxilliary sheet that contains the PSOC codes of jobs. What we noticed is that the intersection of the jobs between these two are over 97%."
   ]
  },
  {
   "cell_type": "code",
   "execution_count": 9,
   "id": "b98aa2d6",
   "metadata": {},
   "outputs": [
    {
     "name": "stdout",
     "output_type": "stream",
     "text": [
      "The two lists share over 98.0% of jobs in common.\n"
     ]
    }
   ],
   "source": [
    "# Opening the MCA Job list\n",
    "filename = 'data/FINAL (WIP)-MCA Job list August 2025.xlsx'\n",
    "\n",
    "# make a dataframe for the final job list\n",
    "final_jobs_df = pd.read_excel(filename, sheet_name=0)\n",
    "final_jobs = set(final_jobs_df['Job Title'].to_list())\n",
    "\n",
    "# make another dataframe for the sheet with PSOC codes\n",
    "pass_df = pd.read_excel(filename, sheet_name=4)\n",
    "pass_jobs = set(pass_df['Job Title'].to_list())\n",
    "\n",
    "# Show the Jaccard Index\n",
    "inter = len(final_jobs.intersection(pass_jobs))\n",
    "union = len(final_jobs.union(pass_jobs))\n",
    "print(f'The two lists share over {round(inter/union, 2) * 100}% of jobs in common.')"
   ]
  },
  {
   "cell_type": "code",
   "execution_count": 10,
   "id": "5aa5cba8",
   "metadata": {},
   "outputs": [
    {
     "name": "stdout",
     "output_type": "stream",
     "text": [
      "Only 15 jobs do not have a PSOC Code. My simple answer would be to just drop, but I don't know if that is the best solution.\n"
     ]
    },
    {
     "data": {
      "text/plain": [
       "Job Title                                                  0\n",
       "Job Sector                                                 0\n",
       "Job Subsector                                              0\n",
       "Educational Pathway                                        0\n",
       "HEI with PRC (Professional Regulation Commission) Exam     0\n",
       "Some HEI                                                   0\n",
       "PSOC                                                      15\n",
       "dtype: int64"
      ]
     },
     "execution_count": 10,
     "metadata": {},
     "output_type": "execute_result"
    }
   ],
   "source": [
    "# Create the mapping from the job to PSOC\n",
    "job_psoc = dict(zip(pass_df['Job Title'].str.strip(), pass_df['PSOC Code']))\n",
    "final_jobs_df['PSOC'] = final_jobs_df['Job Title'].apply(\n",
    "    lambda x : job_psoc.get(x, np.nan)\n",
    "    )\n",
    "print(\"Only 15 jobs do not have a PSOC Code. \"\n",
    "      \"My simple answer would be to just drop, \"\n",
    "      \"but I don't know if that is the best solution.\")\n",
    "\n",
    "final_jobs_df.isnull().sum()"
   ]
  },
  {
   "cell_type": "code",
   "execution_count": 11,
   "id": "46358a0b",
   "metadata": {},
   "outputs": [
    {
     "data": {
      "text/html": [
       "<div>\n",
       "<style scoped>\n",
       "    .dataframe tbody tr th:only-of-type {\n",
       "        vertical-align: middle;\n",
       "    }\n",
       "\n",
       "    .dataframe tbody tr th {\n",
       "        vertical-align: top;\n",
       "    }\n",
       "\n",
       "    .dataframe thead th {\n",
       "        text-align: right;\n",
       "    }\n",
       "</style>\n",
       "<table border=\"1\" class=\"dataframe\">\n",
       "  <thead>\n",
       "    <tr style=\"text-align: right;\">\n",
       "      <th></th>\n",
       "      <th>Job Title</th>\n",
       "      <th>PSOC</th>\n",
       "      <th>ISCO</th>\n",
       "    </tr>\n",
       "  </thead>\n",
       "  <tbody>\n",
       "    <tr>\n",
       "      <th>74</th>\n",
       "      <td>Automotive Mechanic Specialized In EV Power</td>\n",
       "      <td>7414.0</td>\n",
       "      <td>NaN</td>\n",
       "    </tr>\n",
       "    <tr>\n",
       "      <th>162</th>\n",
       "      <td>Chemical Sprayer</td>\n",
       "      <td>6110.0</td>\n",
       "      <td>NaN</td>\n",
       "    </tr>\n",
       "    <tr>\n",
       "      <th>246</th>\n",
       "      <td>Co-op Administrative Support</td>\n",
       "      <td>4111.0</td>\n",
       "      <td>NaN</td>\n",
       "    </tr>\n",
       "    <tr>\n",
       "      <th>344</th>\n",
       "      <td>Embassy Administrative Attaché</td>\n",
       "      <td>4111.0</td>\n",
       "      <td>NaN</td>\n",
       "    </tr>\n",
       "    <tr>\n",
       "      <th>659</th>\n",
       "      <td>Livestock Agriculture Technician</td>\n",
       "      <td>3144.0</td>\n",
       "      <td>NaN</td>\n",
       "    </tr>\n",
       "    <tr>\n",
       "      <th>741</th>\n",
       "      <td>Ministry Program Assistant</td>\n",
       "      <td>4111.0</td>\n",
       "      <td>NaN</td>\n",
       "    </tr>\n",
       "    <tr>\n",
       "      <th>983</th>\n",
       "      <td>Seminary Support Staff</td>\n",
       "      <td>4111.0</td>\n",
       "      <td>NaN</td>\n",
       "    </tr>\n",
       "  </tbody>\n",
       "</table>\n",
       "</div>"
      ],
      "text/plain": [
       "                                       Job Title    PSOC ISCO\n",
       "74   Automotive Mechanic Specialized In EV Power  7414.0  NaN\n",
       "162                             Chemical Sprayer  6110.0  NaN\n",
       "246                 Co-op Administrative Support  4111.0  NaN\n",
       "344               Embassy Administrative Attaché  4111.0  NaN\n",
       "659             Livestock Agriculture Technician  3144.0  NaN\n",
       "741                   Ministry Program Assistant  4111.0  NaN\n",
       "983                       Seminary Support Staff  4111.0  NaN"
      ]
     },
     "execution_count": 11,
     "metadata": {},
     "output_type": "execute_result"
    }
   ],
   "source": [
    "clean_jobs_df = final_jobs_df.dropna()\n",
    "clean_jobs_df = clean_jobs_df.copy()\n",
    "clean_jobs_df['ISCO'] = clean_jobs_df['PSOC'].apply(lambda x: psoc_isco.get(str(int(x)), np.nan))\n",
    "clean_jobs_df[clean_jobs_df['ISCO'].isnull()][['Job Title', 'PSOC', 'ISCO']]"
   ]
  },
  {
   "cell_type": "markdown",
   "id": "e8f20848",
   "metadata": {},
   "source": [
    "# ISCO to O*NET"
   ]
  },
  {
   "cell_type": "code",
   "execution_count": 12,
   "id": "c0837c8d",
   "metadata": {},
   "outputs": [],
   "source": [
    "# Get the mapping from ISCO codes to SOC codes\n",
    "filename = 'data/isco_soc_crosswalk.xls'\n",
    "isco_soc_df = pd.read_excel(filename,\n",
    "                            usecols=[0, 3],\n",
    "                            names=['ISCO', 'SOC'],\n",
    "                            skiprows=6,\n",
    "                            dtype={'ISCO': str, 'SOC': str})\n",
    "isco_soc = dict(zip(isco_soc_df['ISCO'], isco_soc_df['SOC']))\n",
    "\n",
    "clean_jobs_df['SOC'] = clean_jobs_df['ISCO'].apply(lambda x : isco_soc.get(x, np.nan))"
   ]
  },
  {
   "cell_type": "markdown",
   "id": "95a515d2",
   "metadata": {},
   "source": [
    "In the process of mapping the ISCO codes to SOC codes, 25 jobs were lost. In total from this whole process of the MCA job list to the SOC codes, 47 jobs were dropped. For an overall visualization of how the jobs were dropped, please see the funnel chart below."
   ]
  },
  {
   "cell_type": "code",
   "execution_count": 13,
   "id": "b74c5649",
   "metadata": {},
   "outputs": [
    {
     "name": "stderr",
     "output_type": "stream",
     "text": [
      "/Library/Frameworks/Python.framework/Versions/3.11/lib/python3.11/site-packages/kaleido/_sync_server.py:11: UserWarning:\n",
      "\n",
      "\n",
      "\n",
      "Warning: You have Plotly version 5.24.1, which is not compatible with this version of Kaleido (1.1.0).\n",
      "\n",
      "This means that static image generation (e.g. `fig.write_image()`) will not work.\n",
      "\n",
      "Please upgrade Plotly to version 6.1.1 or greater, or downgrade Kaleido to version 0.2.1.\n",
      "\n",
      "\n"
     ]
    },
    {
     "data": {
      "application/vnd.plotly.v1+json": {
       "config": {
        "plotlyServerURL": "https://plot.ly"
       },
       "data": [
        {
         "hovertemplate": "number=%{x}<br>stage=%{y}<br>text=%{text}<extra></extra>",
         "legendgroup": "",
         "marker": {
          "color": "#be2328"
         },
         "name": "",
         "orientation": "h",
         "showlegend": false,
         "text": [
          "Original MCA Job List<br>100.00%",
          "Jobs to PSOC Codes<br>98.70%",
          "PSOC Codes to ISCO Codes<br>98.09%",
          "ISCO Codes to O*NET-SOC Codes<br>95.92%"
         ],
         "type": "funnel",
         "x": [
          1151,
          1136,
          1129,
          1104
         ],
         "xaxis": "x",
         "y": [
          "Original MCA Job List",
          "Jobs to PSOC Codes",
          "PSOC Codes to ISCO Codes",
          "ISCO Codes to O*NET-SOC Codes"
         ],
         "yaxis": "y"
        }
       ],
       "layout": {
        "font": {
         "color": "black",
         "family": "Times New Roman, Times, serif",
         "size": 14
        },
        "legend": {
         "tracegroupgap": 0
        },
        "margin": {
         "t": 60
        },
        "paper_bgcolor": "white",
        "plot_bgcolor": "white",
        "template": {
         "data": {
          "bar": [
           {
            "error_x": {
             "color": "#2a3f5f"
            },
            "error_y": {
             "color": "#2a3f5f"
            },
            "marker": {
             "line": {
              "color": "#E5ECF6",
              "width": 0.5
             },
             "pattern": {
              "fillmode": "overlay",
              "size": 10,
              "solidity": 0.2
             }
            },
            "type": "bar"
           }
          ],
          "barpolar": [
           {
            "marker": {
             "line": {
              "color": "#E5ECF6",
              "width": 0.5
             },
             "pattern": {
              "fillmode": "overlay",
              "size": 10,
              "solidity": 0.2
             }
            },
            "type": "barpolar"
           }
          ],
          "carpet": [
           {
            "aaxis": {
             "endlinecolor": "#2a3f5f",
             "gridcolor": "white",
             "linecolor": "white",
             "minorgridcolor": "white",
             "startlinecolor": "#2a3f5f"
            },
            "baxis": {
             "endlinecolor": "#2a3f5f",
             "gridcolor": "white",
             "linecolor": "white",
             "minorgridcolor": "white",
             "startlinecolor": "#2a3f5f"
            },
            "type": "carpet"
           }
          ],
          "choropleth": [
           {
            "colorbar": {
             "outlinewidth": 0,
             "ticks": ""
            },
            "type": "choropleth"
           }
          ],
          "contour": [
           {
            "colorbar": {
             "outlinewidth": 0,
             "ticks": ""
            },
            "colorscale": [
             [
              0,
              "#0d0887"
             ],
             [
              0.1111111111111111,
              "#46039f"
             ],
             [
              0.2222222222222222,
              "#7201a8"
             ],
             [
              0.3333333333333333,
              "#9c179e"
             ],
             [
              0.4444444444444444,
              "#bd3786"
             ],
             [
              0.5555555555555556,
              "#d8576b"
             ],
             [
              0.6666666666666666,
              "#ed7953"
             ],
             [
              0.7777777777777778,
              "#fb9f3a"
             ],
             [
              0.8888888888888888,
              "#fdca26"
             ],
             [
              1,
              "#f0f921"
             ]
            ],
            "type": "contour"
           }
          ],
          "contourcarpet": [
           {
            "colorbar": {
             "outlinewidth": 0,
             "ticks": ""
            },
            "type": "contourcarpet"
           }
          ],
          "heatmap": [
           {
            "colorbar": {
             "outlinewidth": 0,
             "ticks": ""
            },
            "colorscale": [
             [
              0,
              "#0d0887"
             ],
             [
              0.1111111111111111,
              "#46039f"
             ],
             [
              0.2222222222222222,
              "#7201a8"
             ],
             [
              0.3333333333333333,
              "#9c179e"
             ],
             [
              0.4444444444444444,
              "#bd3786"
             ],
             [
              0.5555555555555556,
              "#d8576b"
             ],
             [
              0.6666666666666666,
              "#ed7953"
             ],
             [
              0.7777777777777778,
              "#fb9f3a"
             ],
             [
              0.8888888888888888,
              "#fdca26"
             ],
             [
              1,
              "#f0f921"
             ]
            ],
            "type": "heatmap"
           }
          ],
          "heatmapgl": [
           {
            "colorbar": {
             "outlinewidth": 0,
             "ticks": ""
            },
            "colorscale": [
             [
              0,
              "#0d0887"
             ],
             [
              0.1111111111111111,
              "#46039f"
             ],
             [
              0.2222222222222222,
              "#7201a8"
             ],
             [
              0.3333333333333333,
              "#9c179e"
             ],
             [
              0.4444444444444444,
              "#bd3786"
             ],
             [
              0.5555555555555556,
              "#d8576b"
             ],
             [
              0.6666666666666666,
              "#ed7953"
             ],
             [
              0.7777777777777778,
              "#fb9f3a"
             ],
             [
              0.8888888888888888,
              "#fdca26"
             ],
             [
              1,
              "#f0f921"
             ]
            ],
            "type": "heatmapgl"
           }
          ],
          "histogram": [
           {
            "marker": {
             "pattern": {
              "fillmode": "overlay",
              "size": 10,
              "solidity": 0.2
             }
            },
            "type": "histogram"
           }
          ],
          "histogram2d": [
           {
            "colorbar": {
             "outlinewidth": 0,
             "ticks": ""
            },
            "colorscale": [
             [
              0,
              "#0d0887"
             ],
             [
              0.1111111111111111,
              "#46039f"
             ],
             [
              0.2222222222222222,
              "#7201a8"
             ],
             [
              0.3333333333333333,
              "#9c179e"
             ],
             [
              0.4444444444444444,
              "#bd3786"
             ],
             [
              0.5555555555555556,
              "#d8576b"
             ],
             [
              0.6666666666666666,
              "#ed7953"
             ],
             [
              0.7777777777777778,
              "#fb9f3a"
             ],
             [
              0.8888888888888888,
              "#fdca26"
             ],
             [
              1,
              "#f0f921"
             ]
            ],
            "type": "histogram2d"
           }
          ],
          "histogram2dcontour": [
           {
            "colorbar": {
             "outlinewidth": 0,
             "ticks": ""
            },
            "colorscale": [
             [
              0,
              "#0d0887"
             ],
             [
              0.1111111111111111,
              "#46039f"
             ],
             [
              0.2222222222222222,
              "#7201a8"
             ],
             [
              0.3333333333333333,
              "#9c179e"
             ],
             [
              0.4444444444444444,
              "#bd3786"
             ],
             [
              0.5555555555555556,
              "#d8576b"
             ],
             [
              0.6666666666666666,
              "#ed7953"
             ],
             [
              0.7777777777777778,
              "#fb9f3a"
             ],
             [
              0.8888888888888888,
              "#fdca26"
             ],
             [
              1,
              "#f0f921"
             ]
            ],
            "type": "histogram2dcontour"
           }
          ],
          "mesh3d": [
           {
            "colorbar": {
             "outlinewidth": 0,
             "ticks": ""
            },
            "type": "mesh3d"
           }
          ],
          "parcoords": [
           {
            "line": {
             "colorbar": {
              "outlinewidth": 0,
              "ticks": ""
             }
            },
            "type": "parcoords"
           }
          ],
          "pie": [
           {
            "automargin": true,
            "type": "pie"
           }
          ],
          "scatter": [
           {
            "fillpattern": {
             "fillmode": "overlay",
             "size": 10,
             "solidity": 0.2
            },
            "type": "scatter"
           }
          ],
          "scatter3d": [
           {
            "line": {
             "colorbar": {
              "outlinewidth": 0,
              "ticks": ""
             }
            },
            "marker": {
             "colorbar": {
              "outlinewidth": 0,
              "ticks": ""
             }
            },
            "type": "scatter3d"
           }
          ],
          "scattercarpet": [
           {
            "marker": {
             "colorbar": {
              "outlinewidth": 0,
              "ticks": ""
             }
            },
            "type": "scattercarpet"
           }
          ],
          "scattergeo": [
           {
            "marker": {
             "colorbar": {
              "outlinewidth": 0,
              "ticks": ""
             }
            },
            "type": "scattergeo"
           }
          ],
          "scattergl": [
           {
            "marker": {
             "colorbar": {
              "outlinewidth": 0,
              "ticks": ""
             }
            },
            "type": "scattergl"
           }
          ],
          "scattermapbox": [
           {
            "marker": {
             "colorbar": {
              "outlinewidth": 0,
              "ticks": ""
             }
            },
            "type": "scattermapbox"
           }
          ],
          "scatterpolar": [
           {
            "marker": {
             "colorbar": {
              "outlinewidth": 0,
              "ticks": ""
             }
            },
            "type": "scatterpolar"
           }
          ],
          "scatterpolargl": [
           {
            "marker": {
             "colorbar": {
              "outlinewidth": 0,
              "ticks": ""
             }
            },
            "type": "scatterpolargl"
           }
          ],
          "scatterternary": [
           {
            "marker": {
             "colorbar": {
              "outlinewidth": 0,
              "ticks": ""
             }
            },
            "type": "scatterternary"
           }
          ],
          "surface": [
           {
            "colorbar": {
             "outlinewidth": 0,
             "ticks": ""
            },
            "colorscale": [
             [
              0,
              "#0d0887"
             ],
             [
              0.1111111111111111,
              "#46039f"
             ],
             [
              0.2222222222222222,
              "#7201a8"
             ],
             [
              0.3333333333333333,
              "#9c179e"
             ],
             [
              0.4444444444444444,
              "#bd3786"
             ],
             [
              0.5555555555555556,
              "#d8576b"
             ],
             [
              0.6666666666666666,
              "#ed7953"
             ],
             [
              0.7777777777777778,
              "#fb9f3a"
             ],
             [
              0.8888888888888888,
              "#fdca26"
             ],
             [
              1,
              "#f0f921"
             ]
            ],
            "type": "surface"
           }
          ],
          "table": [
           {
            "cells": {
             "fill": {
              "color": "#EBF0F8"
             },
             "line": {
              "color": "white"
             }
            },
            "header": {
             "fill": {
              "color": "#C8D4E3"
             },
             "line": {
              "color": "white"
             }
            },
            "type": "table"
           }
          ]
         },
         "layout": {
          "annotationdefaults": {
           "arrowcolor": "#2a3f5f",
           "arrowhead": 0,
           "arrowwidth": 1
          },
          "autotypenumbers": "strict",
          "coloraxis": {
           "colorbar": {
            "outlinewidth": 0,
            "ticks": ""
           }
          },
          "colorscale": {
           "diverging": [
            [
             0,
             "#8e0152"
            ],
            [
             0.1,
             "#c51b7d"
            ],
            [
             0.2,
             "#de77ae"
            ],
            [
             0.3,
             "#f1b6da"
            ],
            [
             0.4,
             "#fde0ef"
            ],
            [
             0.5,
             "#f7f7f7"
            ],
            [
             0.6,
             "#e6f5d0"
            ],
            [
             0.7,
             "#b8e186"
            ],
            [
             0.8,
             "#7fbc41"
            ],
            [
             0.9,
             "#4d9221"
            ],
            [
             1,
             "#276419"
            ]
           ],
           "sequential": [
            [
             0,
             "#0d0887"
            ],
            [
             0.1111111111111111,
             "#46039f"
            ],
            [
             0.2222222222222222,
             "#7201a8"
            ],
            [
             0.3333333333333333,
             "#9c179e"
            ],
            [
             0.4444444444444444,
             "#bd3786"
            ],
            [
             0.5555555555555556,
             "#d8576b"
            ],
            [
             0.6666666666666666,
             "#ed7953"
            ],
            [
             0.7777777777777778,
             "#fb9f3a"
            ],
            [
             0.8888888888888888,
             "#fdca26"
            ],
            [
             1,
             "#f0f921"
            ]
           ],
           "sequentialminus": [
            [
             0,
             "#0d0887"
            ],
            [
             0.1111111111111111,
             "#46039f"
            ],
            [
             0.2222222222222222,
             "#7201a8"
            ],
            [
             0.3333333333333333,
             "#9c179e"
            ],
            [
             0.4444444444444444,
             "#bd3786"
            ],
            [
             0.5555555555555556,
             "#d8576b"
            ],
            [
             0.6666666666666666,
             "#ed7953"
            ],
            [
             0.7777777777777778,
             "#fb9f3a"
            ],
            [
             0.8888888888888888,
             "#fdca26"
            ],
            [
             1,
             "#f0f921"
            ]
           ]
          },
          "colorway": [
           "#636efa",
           "#EF553B",
           "#00cc96",
           "#ab63fa",
           "#FFA15A",
           "#19d3f3",
           "#FF6692",
           "#B6E880",
           "#FF97FF",
           "#FECB52"
          ],
          "font": {
           "color": "#2a3f5f"
          },
          "geo": {
           "bgcolor": "white",
           "lakecolor": "white",
           "landcolor": "#E5ECF6",
           "showlakes": true,
           "showland": true,
           "subunitcolor": "white"
          },
          "hoverlabel": {
           "align": "left"
          },
          "hovermode": "closest",
          "mapbox": {
           "style": "light"
          },
          "paper_bgcolor": "white",
          "plot_bgcolor": "#E5ECF6",
          "polar": {
           "angularaxis": {
            "gridcolor": "white",
            "linecolor": "white",
            "ticks": ""
           },
           "bgcolor": "#E5ECF6",
           "radialaxis": {
            "gridcolor": "white",
            "linecolor": "white",
            "ticks": ""
           }
          },
          "scene": {
           "xaxis": {
            "backgroundcolor": "#E5ECF6",
            "gridcolor": "white",
            "gridwidth": 2,
            "linecolor": "white",
            "showbackground": true,
            "ticks": "",
            "zerolinecolor": "white"
           },
           "yaxis": {
            "backgroundcolor": "#E5ECF6",
            "gridcolor": "white",
            "gridwidth": 2,
            "linecolor": "white",
            "showbackground": true,
            "ticks": "",
            "zerolinecolor": "white"
           },
           "zaxis": {
            "backgroundcolor": "#E5ECF6",
            "gridcolor": "white",
            "gridwidth": 2,
            "linecolor": "white",
            "showbackground": true,
            "ticks": "",
            "zerolinecolor": "white"
           }
          },
          "shapedefaults": {
           "line": {
            "color": "#2a3f5f"
           }
          },
          "ternary": {
           "aaxis": {
            "gridcolor": "white",
            "linecolor": "white",
            "ticks": ""
           },
           "baxis": {
            "gridcolor": "white",
            "linecolor": "white",
            "ticks": ""
           },
           "bgcolor": "#E5ECF6",
           "caxis": {
            "gridcolor": "white",
            "linecolor": "white",
            "ticks": ""
           }
          },
          "title": {
           "x": 0.05
          },
          "xaxis": {
           "automargin": true,
           "gridcolor": "white",
           "linecolor": "white",
           "ticks": "",
           "title": {
            "standoff": 15
           },
           "zerolinecolor": "white",
           "zerolinewidth": 2
          },
          "yaxis": {
           "automargin": true,
           "gridcolor": "white",
           "linecolor": "white",
           "ticks": "",
           "title": {
            "standoff": 15
           },
           "zerolinecolor": "white",
           "zerolinewidth": 2
          }
         }
        },
        "xaxis": {
         "anchor": "y",
         "domain": [
          0,
          1
         ],
         "title": {
          "text": "number"
         }
        },
        "yaxis": {
         "anchor": "x",
         "domain": [
          0,
          1
         ],
         "showticklabels": false,
         "title": {
          "text": ""
         }
        }
       }
      }
     },
     "metadata": {},
     "output_type": "display_data"
    }
   ],
   "source": [
    "import plotly.express as px\n",
    "\n",
    "stages = [\n",
    "    'Original MCA Job List', \n",
    "    'Jobs to PSOC Codes', \n",
    "    'PSOC Codes to ISCO Codes', \n",
    "    'ISCO Codes to O*NET-SOC Codes'\n",
    "]\n",
    "numbers = [1151, 1136, 1129, 1104]\n",
    "data = dict(number=numbers, stage=stages)\n",
    "\n",
    "# Show number of jobs + percentage on the bar\n",
    "percent_text = [f\"{stage}<br>{n/numbers[0]*100:.2f}%\" \n",
    "                for stage, n in zip(stages, numbers)]\n",
    "\n",
    "fig = px.funnel(\n",
    "    data, \n",
    "    x='number', \n",
    "    y='stage', \n",
    "    text=percent_text\n",
    ")\n",
    "\n",
    "# Set bar color\n",
    "fig.update_traces(marker_color=\"#be2328\")  # dark red color\n",
    "\n",
    "# Set background to white and font to Times New Roman\n",
    "fig.update_layout(\n",
    "    paper_bgcolor='white',\n",
    "    plot_bgcolor='white',\n",
    "    font=dict(\n",
    "        family=\"Times New Roman, Times, serif\",\n",
    "        size=14,\n",
    "        color=\"black\"\n",
    "    )\n",
    ")\n",
    "\n",
    "# Hide y-axis entirely\n",
    "fig.update_yaxes(showticklabels=False, title='')\n",
    "\n",
    "fig.show()\n"
   ]
  },
  {
   "cell_type": "markdown",
   "id": "bea47692",
   "metadata": {},
   "source": [
    "To deal with jobs that do not have a SOC code, we asked ChatGPT to find the most suitable SOC code. We have attached below a shareable link of the conversation for transparency.\n",
    "https://chatgpt.com/share/68ca0dd0-46e0-8012-be0a-e825db6ec12f"
   ]
  },
  {
   "cell_type": "code",
   "execution_count": 16,
   "id": "7ce6bf46",
   "metadata": {},
   "outputs": [],
   "source": [
    "missing_soc = {\n",
    "    \"Abaca Grower\": \"45-2092\",  # Farmworkers and Laborers, Crop, Nursery, and Greenhouse\n",
    "    \"Ambulance Driver\": \"53-3011\",  # Ambulance Drivers and Attendants, Except Emergency Medical Technicians\n",
    "    \"Aquaculture Business Assistant\": \"11-9013\",  # Farmers, Ranchers, and Other Agricultural Managers\n",
    "    \"Company Driver (Hotel)\": \"53-3053\",  # Shuttle Drivers and Chauffeurs\n",
    "    \"Delivery Driver\": \"43-5021\",  # Couriers and Messengers\n",
    "    \"Fishery Operations Assistant\": \"45-2093\",  # Farmworkers, Farm, Ranch, and Aquacultural Animals\n",
    "    \"Fitness Instructor\": \"39-9031\",  # Exercise Trainers and Group Fitness Instructors\n",
    "    \"Halal Seaweed Processing Worker\": \"51-9199\",  # Production Workers, All Other\n",
    "    \"Hatchery Farm Worker\": \"45-2093\",  # Farmworkers, Farm, Ranch, and Aquacultural Animals\n",
    "    \"Livestock Raiser\": \"45-2093\",  # Farmworkers, Farm, Ranch, and Aquacultural Animals\n",
    "    \"Municipal Fisherman\": \"45-3031\",  # Fishing and Hunting Workers\n",
    "    \"Park and Garden Rangers\": \"33-9099\",  # Protective Service Workers, All Other\n",
    "    \"Poultry Farmer\": \"45-2093\",  # Farmworkers, Farm, Ranch, and Aquacultural Animals\n",
    "    \"Professional Driver\": \"53-3053\",  # Shuttle Drivers and Chauffeurs\n",
    "    \"Seaweed Nursery Operator\": \"45-2092\",  # Farmworkers and Laborers, Crop, Nursery, and Greenhouse\n",
    "    \"Seaweed Processor\": \"51-9199\",  # Production Workers, All Other\n",
    "    \"Service Vehicle Drivers\": \"53-3053\",  # Shuttle Drivers and Chauffeurs\n",
    "    \"Sonar Fishing Operator\": \"45-3031\",  # Fishing and Hunting Workers\n",
    "    \"Sports Coach\": \"27-2022\",  # Coaches and Scouts\n",
    "    \"Sports Program Assistant\": \"39-9031\",  # Exercise Trainers and Group Fitness Instructors\n",
    "    \"Swine Raiser/Farmer\": \"45-2093\",  # Farmworkers, Farm, Ranch, and Aquacultural Animals\n",
    "    \"Taxi Drivers\": \"53-3054\",  # Taxi Drivers and Chauffeurs\n",
    "    \"Tilapia Farm Technician\": \"45-2093\",  # Farmworkers, Farm, Ranch, and Aquacultural Animals\n",
    "    \"TVET Instructor\": \"25-1194\",  # Vocational Education Teachers, Postsecondary\n",
    "    \"Wellness Coach\": \"39-9031\",  # Exercise Trainers and Group Fitness Instructors\n",
    "    \"Automotive Mechanic Specialized In EV Power\": \"49-3023\",  # Automotive Service Technicians and Mechanics\n",
    "    \"Chemical Sprayer\": \"37-3012.00\",  # Pesticide Handlers, Sprayers, and Applicators, Vegetation\n",
    "    \"Co-op Administrative Support\": \"43-601\",  # Secretaries and Administrative Assistants, Except Legal, Medical, and Executive\n",
    "    \"Embassy Administrative Attaché\": \"43-6011\",  # Executive Secretaries and Executive Administrative Assistants\n",
    "    \"Livestock Agriculture Technician\": \"19-4012\",  # Agricultural Technicians\n",
    "    \"Ministry Program Assistant\": \"43-406\",  # Eligibility Interviewers, Government Programs\n",
    "    \"Seminary Support Staff\": \"21-2099\"  # Religious Workers, All Other\n",
    "}"
   ]
  },
  {
   "cell_type": "code",
   "execution_count": 17,
   "id": "0f098997",
   "metadata": {},
   "outputs": [],
   "source": [
    "for title, code in list(missing_soc.items()):\n",
    "    job_filt = clean_jobs_df['Job Title'] == title\n",
    "    clean_jobs_df.loc[job_filt, 'SOC'] = code"
   ]
  },
  {
   "cell_type": "code",
   "execution_count": 18,
   "id": "a339940f",
   "metadata": {},
   "outputs": [
    {
     "data": {
      "text/plain": [
       "Job Title                                                 0\n",
       "Job Sector                                                0\n",
       "Job Subsector                                             0\n",
       "Educational Pathway                                       0\n",
       "HEI with PRC (Professional Regulation Commission) Exam    0\n",
       "Some HEI                                                  0\n",
       "PSOC                                                      0\n",
       "ISCO                                                      7\n",
       "SOC                                                       0\n",
       "dtype: int64"
      ]
     },
     "execution_count": 18,
     "metadata": {},
     "output_type": "execute_result"
    }
   ],
   "source": [
    "clean_jobs_df.isnull().sum()"
   ]
  },
  {
   "cell_type": "markdown",
   "id": "a2f071c8",
   "metadata": {},
   "source": [
    "# Since we now have all the jobs mapped to their corresponding SOC code, let us now export it."
   ]
  },
  {
   "cell_type": "code",
   "execution_count": 19,
   "id": "a759e4e5",
   "metadata": {},
   "outputs": [],
   "source": [
    "clean_jobs_df.to_csv('mca_soc.csv', index=False)"
   ]
  },
  {
   "cell_type": "code",
   "execution_count": null,
   "id": "9613f19a",
   "metadata": {},
   "outputs": [],
   "source": []
  }
 ],
 "metadata": {
  "kernelspec": {
   "display_name": "Python 3",
   "language": "python",
   "name": "python3"
  },
  "language_info": {
   "codemirror_mode": {
    "name": "ipython",
    "version": 3
   },
   "file_extension": ".py",
   "mimetype": "text/x-python",
   "name": "python",
   "nbconvert_exporter": "python",
   "pygments_lexer": "ipython3",
   "version": "3.11.5"
  }
 },
 "nbformat": 4,
 "nbformat_minor": 5
}
